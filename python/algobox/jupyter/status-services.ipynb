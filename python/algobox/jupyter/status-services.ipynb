{
 "cells": [
  {
   "cell_type": "code",
   "execution_count": 3,
   "metadata": {
    "collapsed": true
   },
   "outputs": [],
   "source": [
    "from algobox.client import ApiClient, DataCollectorClient\n",
    "from algobox.analysis import QuickAnalysis\n",
    "from datetime import datetime, timedelta\n",
    "%matplotlib notebook"
   ]
  },
  {
   "cell_type": "code",
   "execution_count": 63,
   "metadata": {
    "collapsed": false
   },
   "outputs": [],
   "source": [
    "INSTRUMENT_DAX = 'DE30_EUR'\n",
    "\n",
    "def print_connections(client):\n",
    "    connections_client = client.connections_client\n",
    "    for connection in connections_client.find_all_connections():\n",
    "        status = connections_client.get_connection_status(connection.connection_id)\n",
    "        subscriptions = [x.value for x in connections_client.get_subscribed_instruments(connection.connection_id)]\n",
    "        print(\"Connection [%s:%s], status [%s], subscriptions %s\" % (\n",
    "                connection.connection_id, connection.connector_id, status.connection_status, subscriptions))\n",
    "\n",
    "\n",
    "def print_strategies(client):\n",
    "    strategies_client = client.strategies_client\n",
    "    for strategy in strategies_client.get_active_strategies():\n",
    "        status = strategies_client.get_strategy_status(strategy.instance_id)\n",
    "        print(\"----\")\n",
    "        print(\"Strategy [%s:%s]\" % (strategy.instance_id, strategy.strategy_id))\n",
    "        print(\"State [%s], received ticks [%s]\" % (status.status, status.received_ticks))\n",
    "        print(\"Mappings:\")\n",
    "        for mapping in strategy.instruments_mapping:            \n",
    "            print(\"- price [%s:%s], order [%s:%s]\" % (\n",
    "                    mapping.price_instrument_id, mapping.price_connection_id, mapping.order_instrument_id, mapping.order_connection_id))\n",
    "        print(\"Parameters:\")\n",
    "        for key, value in strategy.parameters.items():\n",
    "            print('- [%s]=[%s]' % (key, value))\n",
    "        print(\"Log:\")\n",
    "        for log in strategies_client.get_strategy_events_log(strategy.instance_id, page_number=0, page_size=5):\n",
    "            print(\"- %d %s: [%s] (data: %s) \" % (log.timestamp, log.strategy_event_type, log.message, log.data))\n",
    "        print(\"\")\n",
    "        \n",
    "\n",
    "def print_strategies_history(client):\n",
    "    strategies_client = client.strategies_client\n",
    "    for strategy in strategies_client.get_strategies_history(page_number=0, page_size=5):\n",
    "        print(\"----\")\n",
    "        print(\"Strategy [%s:%s:%s]\" % (strategy.instance_id, strategy.strategy_id, strategy.title))\n",
    "        print(\"Received ticks [%s]\" % strategy.received_ticks)\n",
    "        if strategy.exception_message:\n",
    "            print(\"Exception [%s], stack [%s]\" % (strategy.exception_message, strategy.exception_stack))\n",
    "        print(\"\")\n",
    "\n",
    "def get_last_trading_day():\n",
    "    previous_day = datetime.now()\n",
    "    if previous_day.weekday() == 6:\n",
    "        return previous_day + timedelta(days=-2)\n",
    "    else:\n",
    "        return previous_day + timedelta(days=-1)"
   ]
  },
  {
   "cell_type": "code",
   "execution_count": 5,
   "metadata": {
    "collapsed": true
   },
   "outputs": [],
   "source": [
    "api_client = ApiClient()"
   ]
  },
  {
   "cell_type": "markdown",
   "metadata": {},
   "source": [
    "## Connections"
   ]
  },
  {
   "cell_type": "code",
   "execution_count": 6,
   "metadata": {
    "collapsed": false
   },
   "outputs": [
    {
     "name": "stdout",
     "output_type": "stream",
     "text": [
      "Connection [oanda-demo:oanda], status [DISCONNECTED], subscriptions ['DE30_EUR']\n"
     ]
    }
   ],
   "source": [
    "print_connections(api_client)"
   ]
  },
  {
   "cell_type": "markdown",
   "metadata": {
    "collapsed": true
   },
   "source": [
    "## Strategies"
   ]
  },
  {
   "cell_type": "code",
   "execution_count": 64,
   "metadata": {
    "collapsed": false
   },
   "outputs": [
    {
     "name": "stdout",
     "output_type": "stream",
     "text": [
      "----\n",
      "Strategy [bdbb56c6-0dba-4a53-8443-a936fbc3a41e:daxLevelsLollipop]\n",
      "State [UNDEFINED], received ticks [0]\n",
      "Mappings:\n",
      "- price [DE30_EUR:oanda-demo], order [DE30_EUR:oanda-demo]\n",
      "Parameters:\n",
      "- [validFromMinutes]=[30]\n",
      "- [timeframe]=[M15]\n",
      "- [slPips]=[10]\n",
      "- [minLollipopSize]=[9.0]\n",
      "- [validToMinutes]=[30]\n",
      "- [maxLollipopSize]=[30.0]\n",
      "- [tpPips]=[12]\n",
      "- [minHeadDistanceFromLevel]=[11.0]\n",
      "- [maxTailPipsFromLevel]=[1.0]\n",
      "Log:\n",
      "\n",
      "----\n",
      "Strategy [9c5c9222-2901-4e45-8e04-c1c4b4d63c4f:daxLevelsLollipop]\n",
      "State [UNDEFINED], received ticks [0]\n",
      "Mappings:\n",
      "- price [DE30_EUR:oanda-demo], order [DE30_EUR:oanda-demo]\n",
      "Parameters:\n",
      "- [validFromMinutes]=[30]\n",
      "- [timeframe]=[M5]\n",
      "- [slPips]=[10]\n",
      "- [minLollipopSize]=[9.0]\n",
      "- [validToMinutes]=[30]\n",
      "- [maxLollipopSize]=[30.0]\n",
      "- [tpPips]=[12]\n",
      "- [minHeadDistanceFromLevel]=[11.0]\n",
      "- [maxTailPipsFromLevel]=[1.0]\n",
      "Log:\n",
      "\n"
     ]
    }
   ],
   "source": [
    "print_strategies(api_client)"
   ]
  },
  {
   "cell_type": "code",
   "execution_count": null,
   "metadata": {
    "collapsed": true
   },
   "outputs": [],
   "source": [
    "print_strategies_history(api_client)"
   ]
  },
  {
   "cell_type": "markdown",
   "metadata": {},
   "source": [
    "## Prices"
   ]
  },
  {
   "cell_type": "code",
   "execution_count": null,
   "metadata": {},
   "outputs": [],
   "source": [
    "analysis = QuickAnalysis(algobox_client=api_client)\n",
    "overview = analysis.day_overview(instrument_id=INSTRUMENT_DAX, date=get_last_trading_day())\n",
    "if overview.plot is not None:\n",
    "    overview.plot.show()"
   ]
  },
  {
   "cell_type": "markdown",
   "metadata": {},
   "source": [
    "# Datacollector"
   ]
  },
  {
   "cell_type": "code",
   "execution_count": null,
   "metadata": {},
   "outputs": [],
   "source": [
    "datacollector_client = DataCollectorClient()"
   ]
  },
  {
   "cell_type": "markdown",
   "metadata": {},
   "source": [
    "## Connections\n"
   ]
  },
  {
   "cell_type": "code",
   "execution_count": null,
   "metadata": {},
   "outputs": [],
   "source": [
    "print_connections(datacollector_client)"
   ]
  },
  {
   "cell_type": "markdown",
   "metadata": {},
   "source": [
    "## Last tick"
   ]
  },
  {
   "cell_type": "code",
   "execution_count": null,
   "metadata": {},
   "outputs": [],
   "source": [
    "prices_stage_client = datacollector_client.pricestages_client\n",
    "pices_count = prices_stage_client.count_prices(INSTRUMENT_DAX)\n",
    "last_price = prices_stage_client.find_last_price(INSTRUMENT_DAX)\n",
    "print('Prices in stage [%d], last price [%r], time [%s].' % (pices_count, last_price, datetime.utcfromtimestamp(last_price.time / 1000)))"
   ]
  }
 ],
 "metadata": {
  "kernelspec": {
   "display_name": "Python 3",
   "language": "python",
   "name": "python3"
  },
  "language_info": {
   "codemirror_mode": {
    "name": "ipython",
    "version": 3.0
   },
   "file_extension": ".py",
   "mimetype": "text/x-python",
   "name": "python",
   "nbconvert_exporter": "python",
   "pygments_lexer": "ipython3",
   "version": "3.5.2"
  }
 },
 "nbformat": 4,
 "nbformat_minor": 0
}